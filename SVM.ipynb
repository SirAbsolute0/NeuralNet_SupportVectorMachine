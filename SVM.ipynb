{
 "cells": [
  {
   "cell_type": "code",
   "execution_count": 1,
   "id": "10e4ddcd",
   "metadata": {},
   "outputs": [],
   "source": [
    "# Import required libraries\n",
    "import pandas as pd\n",
    "import numpy as np \n",
    "import sklearn\n",
    "\n",
    "# Import necessary modules\n",
    "from sklearn.model_selection import KFold\n",
    "from sklearn.model_selection import cross_val_score\n",
    "from sklearn.model_selection import GridSearchCV\n",
    "from sklearn.metrics import mean_absolute_error, make_scorer\n",
    "from sklearn.svm import SVC\n",
    "\n",
    "from numpy import mean\n",
    "from numpy import absolute"
   ]
  },
  {
   "cell_type": "code",
   "execution_count": 2,
   "id": "2d9e09ad",
   "metadata": {},
   "outputs": [],
   "source": [
    "#Load in the data and split to 33 columns\n",
    "df = pd.read_csv('~/Downloads/DATA.csv')\n",
    "df = df['STUDENT ID;1;2;3;4;5;6;7;8;9;10;11;12;13;14;15;16;17;18;19;20;21;22;23;24;25;26;27;28;29;30;COURSE ID;GRADE'].str.split(';', n=33, expand=True)"
   ]
  },
  {
   "cell_type": "code",
   "execution_count": 3,
   "id": "82345d27",
   "metadata": {},
   "outputs": [
    {
     "name": "stderr",
     "output_type": "stream",
     "text": [
      "O:\\Anaconda\\envs\\Tensorflow_Practice\\lib\\site-packages\\ipykernel_launcher.py:3: FutureWarning: In a future version of pandas all arguments of DataFrame.drop except for the argument 'labels' will be keyword-only\n",
      "  This is separate from the ipykernel package so we can avoid doing imports until\n"
     ]
    }
   ],
   "source": [
    "#Drop the first col as it is not useful for training\n",
    "#Also convert all values within the dataframe to int since it recognized as string\n",
    "df = df.drop(0, 1)\n",
    "for column in df:\n",
    "    df[column] = df[column].astype(int)"
   ]
  },
  {
   "cell_type": "code",
   "execution_count": 4,
   "id": "977a572d",
   "metadata": {},
   "outputs": [
    {
     "name": "stderr",
     "output_type": "stream",
     "text": [
      "O:\\Anaconda\\envs\\Tensorflow_Practice\\lib\\site-packages\\ipykernel_launcher.py:5: FutureWarning: In a future version of pandas all arguments of DataFrame.drop except for the argument 'labels' will be keyword-only\n",
      "  \"\"\"\n"
     ]
    }
   ],
   "source": [
    "#Split original dataframe to parameter dataframe and target dataframe\n",
    "target_column = [32] \n",
    "y = df[target_column].values\n",
    "\n",
    "df = df.drop(32, 1)\n",
    "predictors = list(df.columns)\n",
    "X = df[predictors].values"
   ]
  },
  {
   "cell_type": "code",
   "execution_count": 5,
   "id": "92ee69a7",
   "metadata": {},
   "outputs": [],
   "source": [
    "#Create the K fold model\n",
    "#Partial code from https://chrisalbon.com/code/deep_learning/keras/tuning_neural_network_hyperparameters/\n",
    "cv = KFold(n_splits=10, shuffle=True, random_state = 12)"
   ]
  },
  {
   "cell_type": "code",
   "execution_count": 6,
   "id": "d827310b",
   "metadata": {},
   "outputs": [],
   "source": [
    "#Initialized the first SVC model with all default paremters (rbf)\n",
    "model_1 = SVC()\n",
    "score_1 = cross_val_score(model_1, X, y, scoring='neg_mean_absolute_error', cv=cv, n_jobs=-1)\n",
    "score_11 = cross_val_score(model_1, X, y, scoring='accuracy', cv=cv, n_jobs=-1)"
   ]
  },
  {
   "cell_type": "code",
   "execution_count": 7,
   "id": "149dc2a1",
   "metadata": {},
   "outputs": [
    {
     "name": "stdout",
     "output_type": "stream",
     "text": [
      "1.6895238095238096\n",
      "0.2547619047619048\n"
     ]
    }
   ],
   "source": [
    "#MAE score and accuracy for the first SVC model\n",
    "print(\"///////////////////////////////////////////////MAE and Accuracy for the first SVM/////////////////////////////\")\n",
    "print(mean(absolute(score_1)))\n",
    "print(mean(absolute(score_11)))"
   ]
  },
  {
   "cell_type": "code",
   "execution_count": 8,
   "id": "30330c6f",
   "metadata": {},
   "outputs": [],
   "source": [
    "#Initialized the second SVC model with all default paremters except change kernel to linear\n",
    "model_2 = SVC(kernel = 'linear')\n",
    "score_2 = cross_val_score(model_2, X, y, scoring='neg_mean_absolute_error', cv=cv, n_jobs=-1)\n",
    "score_22 = cross_val_score(model_2, X, y, scoring='accuracy', cv=cv, n_jobs=-1)"
   ]
  },
  {
   "cell_type": "code",
   "execution_count": 9,
   "id": "be7697c6",
   "metadata": {},
   "outputs": [
    {
     "name": "stdout",
     "output_type": "stream",
     "text": [
      "1.706190476190476\n",
      "0.26\n"
     ]
    }
   ],
   "source": [
    "#MAE score for the second SVC model\n",
    "print(\"///////////////////////////////////////////////MAE and Accuracy for the second SVM/////////////////////////////\")\n",
    "print(mean(absolute(score_2)))\n",
    "print(mean(absolute(score_22)))"
   ]
  },
  {
   "cell_type": "code",
   "execution_count": 10,
   "id": "2a98ed40",
   "metadata": {},
   "outputs": [
    {
     "data": {
      "text/plain": [
       "\"\\n#Using Grid Search to find optimal hyper parameters for SVC\\n#Partial code from https://scikit-learn.org/stable/modules/generated/sklearn.model_selection.GridSearchCV.html\\nmodel_opt = SVC()\\nparameters = {'kernel':('linear', 'rbf', 'poly', 'sigmoid'), 'C':range(1, 100)}\\n\\nclf = GridSearchCV(model_opt, parameters, cv = cv, scoring = 'neg_mean_absolute_error')\\nclf.fit(X, y.ravel())\\n\""
      ]
     },
     "execution_count": 10,
     "metadata": {},
     "output_type": "execute_result"
    }
   ],
   "source": [
    "\"\"\"\n",
    "#Using Grid Search to find optimal hyper parameters for SVC\n",
    "#Partial code from https://scikit-learn.org/stable/modules/generated/sklearn.model_selection.GridSearchCV.html\n",
    "model_opt = SVC()\n",
    "parameters = {'kernel':('linear', 'rbf', 'poly', 'sigmoid'), 'C':range(1, 100)}\n",
    "\n",
    "clf = GridSearchCV(model_opt, parameters, cv = cv, scoring = 'neg_mean_absolute_error')\n",
    "clf.fit(X, y.ravel())\n",
    "\"\"\""
   ]
  },
  {
   "cell_type": "code",
   "execution_count": 11,
   "id": "8d19bcca",
   "metadata": {},
   "outputs": [
    {
     "data": {
      "text/plain": [
       "\"\\nprint('Best Score: %s' % clf.best_score_)\\nprint('Best Hyperparameters: %s' % clf.best_params_)\\n\""
      ]
     },
     "execution_count": 11,
     "metadata": {},
     "output_type": "execute_result"
    }
   ],
   "source": [
    "\"\"\"\n",
    "print('Best Score: %s' % clf.best_score_)\n",
    "print('Best Hyperparameters: %s' % clf.best_params_)\n",
    "\"\"\""
   ]
  },
  {
   "cell_type": "code",
   "execution_count": 12,
   "id": "cab79dd0",
   "metadata": {},
   "outputs": [],
   "source": [
    "#Using the new model obtained from Grid search\n",
    "model_3 = SVC(kernel = 'rbf', C = 8)\n",
    "score_3 = cross_val_score(model_3, X, y, scoring='neg_mean_absolute_error', cv=cv, n_jobs=-1)\n",
    "score_33 = cross_val_score(model_3, X, y, scoring='accuracy', cv=cv, n_jobs=-1)"
   ]
  },
  {
   "cell_type": "code",
   "execution_count": 13,
   "id": "9b828cbf",
   "metadata": {},
   "outputs": [
    {
     "name": "stdout",
     "output_type": "stream",
     "text": [
      "1.2742857142857145\n",
      "0.29761904761904756\n"
     ]
    }
   ],
   "source": [
    "#MAE score for the optimized model with Grid search\n",
    "print(\"///////////////////////////////////////////////MAE and Accuracy for the optimized SVM/////////////////////////////\")\n",
    "print(mean(absolute(score_3)))\n",
    "print(mean(absolute(score_33)))"
   ]
  },
  {
   "cell_type": "code",
   "execution_count": null,
   "id": "8b516104",
   "metadata": {},
   "outputs": [],
   "source": []
  }
 ],
 "metadata": {
  "kernelspec": {
   "display_name": "Python 3 (ipykernel)",
   "language": "python",
   "name": "python3"
  },
  "language_info": {
   "codemirror_mode": {
    "name": "ipython",
    "version": 3
   },
   "file_extension": ".py",
   "mimetype": "text/x-python",
   "name": "python",
   "nbconvert_exporter": "python",
   "pygments_lexer": "ipython3",
   "version": "3.7.10"
  }
 },
 "nbformat": 4,
 "nbformat_minor": 5
}
