{
 "cells": [
  {
   "cell_type": "code",
   "execution_count": 1,
   "id": "58d7c01c",
   "metadata": {},
   "outputs": [],
   "source": [
    "# Import required libraries\n",
    "import pandas as pd\n",
    "import numpy as np \n",
    "import sklearn\n",
    "import tensorflow as tf\n",
    "\n",
    "# Import necessary modules\n",
    "from sklearn.model_selection import KFold\n",
    "from sklearn.model_selection import cross_val_score\n",
    "from sklearn.model_selection import GridSearchCV\n",
    "\n",
    "#Keras specific\n",
    "from tensorflow import keras\n",
    "from tensorflow.keras import Input, Model, layers, Sequential\n",
    "from tensorflow.keras.layers import Dense\n",
    "\n",
    "from keras import models\n",
    "from keras import layers\n",
    "\n",
    "from keras.wrappers.scikit_learn import KerasClassifier\n",
    "\n",
    "#Numpy specific\n",
    "from numpy import mean\n",
    "from numpy import absolute\n",
    "\n",
    "tf.random.set_seed(3)"
   ]
  },
  {
   "cell_type": "code",
   "execution_count": 2,
   "id": "aaf88d93",
   "metadata": {},
   "outputs": [],
   "source": [
    "#Load in the data and seperate out columns\n",
    "df = pd.read_csv('~/Downloads/DATA.csv')\n",
    "df = df['STUDENT ID;1;2;3;4;5;6;7;8;9;10;11;12;13;14;15;16;17;18;19;20;21;22;23;24;25;26;27;28;29;30;COURSE ID;GRADE'].str.split(';', n=33, expand=True)"
   ]
  },
  {
   "cell_type": "code",
   "execution_count": 3,
   "id": "60f0255f",
   "metadata": {},
   "outputs": [
    {
     "name": "stderr",
     "output_type": "stream",
     "text": [
      "O:\\Anaconda\\envs\\Tensorflow_Practice\\lib\\site-packages\\ipykernel_launcher.py:3: FutureWarning: In a future version of pandas all arguments of DataFrame.drop except for the argument 'labels' will be keyword-only\n",
      "  This is separate from the ipykernel package so we can avoid doing imports until\n"
     ]
    }
   ],
   "source": [
    "#Drop the first col as it is not useful for training\n",
    "#Also convert all values within the dataframe to int since it recognized as string\n",
    "df = df.drop(0, 1)\n",
    "for column in df:\n",
    "    df[column] = df[column].astype(int)"
   ]
  },
  {
   "cell_type": "code",
   "execution_count": 4,
   "id": "8af01acb",
   "metadata": {},
   "outputs": [
    {
     "name": "stderr",
     "output_type": "stream",
     "text": [
      "O:\\Anaconda\\envs\\Tensorflow_Practice\\lib\\site-packages\\ipykernel_launcher.py:5: FutureWarning: In a future version of pandas all arguments of DataFrame.drop except for the argument 'labels' will be keyword-only\n",
      "  \"\"\"\n"
     ]
    }
   ],
   "source": [
    "#Split original dataframe to parameter dataframe and target dataframe\n",
    "target_column = [32] \n",
    "y = df[target_column].values\n",
    "\n",
    "df = df.drop(32, 1)\n",
    "predictors = list(df.columns)\n",
    "X = df[predictors].values"
   ]
  },
  {
   "cell_type": "code",
   "execution_count": 5,
   "id": "6bb246bd",
   "metadata": {},
   "outputs": [],
   "source": [
    "#Create the K fold model\n",
    "cv = KFold(n_splits=10, shuffle=True, random_state = 15)"
   ]
  },
  {
   "cell_type": "code",
   "execution_count": 6,
   "id": "09b795c9",
   "metadata": {},
   "outputs": [],
   "source": [
    "# Create function returning a compiled network 1\n",
    "def create_network_1():\n",
    "    # Start neural network\n",
    "    network = models.Sequential()\n",
    "\n",
    "    # Add fully connected layer with a ReLU activation function\n",
    "    network.add(layers.Dense(units=31, activation='relu', input_shape=(31,)))\n",
    "    \n",
    "    # Add fully connected layer with a sigmoid activation function\n",
    "    network.add(layers.Dense(units=40, activation='relu'))\n",
    "    \n",
    "    # Add fully connected layer with a sigmoid activation function\n",
    "    network.add(layers.Dense(units=1, activation='tanh'))\n",
    "\n",
    "    # Compile neural network\n",
    "    network.compile(loss= 'MeanAbsoluteError', \n",
    "                    optimizer='adam')\n",
    "    \n",
    "    # Return compiled network\n",
    "    return network\n"
   ]
  },
  {
   "cell_type": "code",
   "execution_count": 7,
   "id": "681701e1",
   "metadata": {},
   "outputs": [
    {
     "name": "stderr",
     "output_type": "stream",
     "text": [
      "O:\\Anaconda\\envs\\Tensorflow_Practice\\lib\\site-packages\\ipykernel_launcher.py:2: DeprecationWarning: KerasClassifier is deprecated, use Sci-Keras (https://github.com/adriangb/scikeras) instead. See https://www.adriangb.com/scikeras/stable/migration.html for help migrating.\n",
      "  \n"
     ]
    }
   ],
   "source": [
    "# Wrap Keras model so it can be used by scikit-learn\n",
    "neural_network_1 = KerasClassifier(build_fn=create_network_1, epochs=100, verbose=0)"
   ]
  },
  {
   "cell_type": "code",
   "execution_count": 8,
   "id": "9de7ceb9",
   "metadata": {},
   "outputs": [
    {
     "name": "stdout",
     "output_type": "stream",
     "text": [
      "WARNING:tensorflow:5 out of the last 5 calls to <function Model.make_predict_function.<locals>.predict_function at 0x00000160F6263F78> triggered tf.function retracing. Tracing is expensive and the excessive number of tracings could be due to (1) creating @tf.function repeatedly in a loop, (2) passing tensors with different shapes, (3) passing Python objects instead of tensors. For (1), please define your @tf.function outside of the loop. For (2), @tf.function has experimental_relax_shapes=True option that relaxes argument shapes that can avoid unnecessary retracing. For (3), please refer to https://www.tensorflow.org/guide/function#controlling_retracing and https://www.tensorflow.org/api_docs/python/tf/function for  more details.\n",
      "WARNING:tensorflow:6 out of the last 6 calls to <function Model.make_predict_function.<locals>.predict_function at 0x00000160F7AB3F78> triggered tf.function retracing. Tracing is expensive and the excessive number of tracings could be due to (1) creating @tf.function repeatedly in a loop, (2) passing tensors with different shapes, (3) passing Python objects instead of tensors. For (1), please define your @tf.function outside of the loop. For (2), @tf.function has experimental_relax_shapes=True option that relaxes argument shapes that can avoid unnecessary retracing. For (3), please refer to https://www.tensorflow.org/guide/function#controlling_retracing and https://www.tensorflow.org/api_docs/python/tf/function for  more details.\n"
     ]
    }
   ],
   "source": [
    "# Evaluate neural network using ten-fold cross-validation\n",
    "score_1 = cross_val_score(neural_network_1, X, y, scoring='neg_mean_absolute_error', cv=cv)\n",
    "score_11 = cross_val_score(neural_network_1, X, y, scoring='accuracy', cv=cv)"
   ]
  },
  {
   "cell_type": "code",
   "execution_count": 9,
   "id": "69c39480",
   "metadata": {},
   "outputs": [
    {
     "name": "stdout",
     "output_type": "stream",
     "text": [
      "2.3290476190476186\n",
      "0.24095238095238095\n"
     ]
    }
   ],
   "source": [
    "#MAE score and accuracy for the first NN model\n",
    "print(\"////////////////////////////MAE and Accuracy for the first NN///////////////////////////////////\")\n",
    "print(mean(absolute(score_1)))\n",
    "print(mean(absolute(score_11)))"
   ]
  },
  {
   "cell_type": "code",
   "execution_count": 10,
   "id": "0177c7da",
   "metadata": {},
   "outputs": [],
   "source": [
    "# Create function returning a compiled network\n",
    "def create_network_2():\n",
    "    # Start neural network\n",
    "    network = models.Sequential()\n",
    "\n",
    "    network.add(layers.Dense(units=31, activation='sigmoid', input_shape=(31,)))\n",
    "    network.add(layers.Dense(units=100, activation='sigmoid'))\n",
    "    network.add(layers.Dense(units=250, activation='sigmoid'))\n",
    "    network.add(layers.Dense(units=1, activation='tanh'))\n",
    "\n",
    "    # Compile neural network\n",
    "    network.compile(optimizer = 'adam', loss= 'MeanAbsoluteError') \n",
    "    \n",
    "    # Return compiled network\n",
    "    return network\n"
   ]
  },
  {
   "cell_type": "code",
   "execution_count": 11,
   "id": "81098d51",
   "metadata": {},
   "outputs": [
    {
     "name": "stderr",
     "output_type": "stream",
     "text": [
      "O:\\Anaconda\\envs\\Tensorflow_Practice\\lib\\site-packages\\ipykernel_launcher.py:3: DeprecationWarning: KerasClassifier is deprecated, use Sci-Keras (https://github.com/adriangb/scikeras) instead. See https://www.adriangb.com/scikeras/stable/migration.html for help migrating.\n",
      "  This is separate from the ipykernel package so we can avoid doing imports until\n"
     ]
    }
   ],
   "source": [
    "neural_network_2 = KerasClassifier(build_fn=create_network_2, \n",
    "                                 epochs=100, \n",
    "                                 verbose=0)"
   ]
  },
  {
   "cell_type": "code",
   "execution_count": 12,
   "id": "555041cd",
   "metadata": {},
   "outputs": [],
   "source": [
    "# Evaluate the second neural network using ten-fold cross-validation\n",
    "score_2 = cross_val_score(neural_network_2, X, y, scoring='neg_mean_absolute_error', cv=cv)\n",
    "score_22 = cross_val_score(neural_network_2, X, y, scoring='accuracy', cv=cv)"
   ]
  },
  {
   "cell_type": "code",
   "execution_count": 13,
   "id": "25d0d194",
   "metadata": {},
   "outputs": [
    {
     "name": "stdout",
     "output_type": "stream",
     "text": [
      "2.3290476190476186\n",
      "0.24095238095238095\n"
     ]
    }
   ],
   "source": [
    "#MAE score and accuracy for the second NN model\n",
    "print(\"////////////////////////////MAE and Accuracy for the second NN///////////////////////////////////\")\n",
    "print(mean(absolute(score_2)))\n",
    "print(mean(absolute(score_22)))"
   ]
  },
  {
   "cell_type": "code",
   "execution_count": 14,
   "id": "dfbe276a",
   "metadata": {},
   "outputs": [
    {
     "data": {
      "text/plain": [
       "\"\\n# Create function returning a compiled network\\ndef create_network_opt(optimizer, activation_1, activation_2):\\n    # Start neural network\\n    network = models.Sequential()\\n\\n    network.add(layers.Dense(units=31, activation=activation_1, input_shape=(31,)))\\n    network.add(layers.Dense(units=50, activation=activation_1))\\n    network.add(layers.Dense(units=8, activation=activation_2))\\n\\n    # Compile neural network\\n    network.compile(loss='sparse_categorical_crossentropy', \\n                    optimizer=optimizer, \\n                    metrics=['accuracy']) \\n    \\n    # Return compiled network\\n    return network\\n\""
      ]
     },
     "execution_count": 14,
     "metadata": {},
     "output_type": "execute_result"
    }
   ],
   "source": [
    "\"\"\"\n",
    "# Create function returning a compiled network\n",
    "def create_network_opt(optimizer, activation_1, activation_2):\n",
    "    # Start neural network\n",
    "    network = models.Sequential()\n",
    "\n",
    "    network.add(layers.Dense(units=31, activation=activation_1, input_shape=(31,)))\n",
    "    network.add(layers.Dense(units=50, activation=activation_1))\n",
    "    network.add(layers.Dense(units=8, activation=activation_2))\n",
    "\n",
    "    # Compile neural network\n",
    "    network.compile(loss='sparse_categorical_crossentropy', \n",
    "                    optimizer=optimizer, \n",
    "                    metrics=['accuracy']) \n",
    "    \n",
    "    # Return compiled network\n",
    "    return network\n",
    "\"\"\""
   ]
  },
  {
   "cell_type": "code",
   "execution_count": 15,
   "id": "42d57d79",
   "metadata": {},
   "outputs": [
    {
     "data": {
      "text/plain": [
       "'\\nneural_network_opt = KerasClassifier(build_fn=create_network_opt, verbose=0)\\n'"
      ]
     },
     "execution_count": 15,
     "metadata": {},
     "output_type": "execute_result"
    }
   ],
   "source": [
    "\"\"\"\n",
    "neural_network_opt = KerasClassifier(build_fn=create_network_opt, verbose=0)\n",
    "\"\"\""
   ]
  },
  {
   "cell_type": "code",
   "execution_count": 16,
   "id": "56e37c93",
   "metadata": {},
   "outputs": [
    {
     "data": {
      "text/plain": [
       "\"\\n#Using Grid search to obtain better result\\n#Partial code from https://chrisalbon.com/code/deep_learning/keras/tuning_neural_network_hyperparameters/\\n# Create hyperparameter space\\nepochs = [10, 100, 200]\\nbatches = [100, 150, 200]\\noptimizers = ['rmsprop', 'adam', 'sgd', 'nadam']\\nactivation_11 = ['tanh', 'sigmoid', 'relu']\\nactivation_22 = ['tanh', 'sigmoid', 'relu']\\n\\n# Create hyperparameter options\\nhyperparameters = dict(optimizer=optimizers, epochs=epochs, batch_size=batches, activation_1 = activation_11, activation_2 = activation_22)\\n\\n# Create grid search\\ngrid = GridSearchCV(estimator=neural_network_opt, cv=cv, param_grid=hyperparameters, scoring = 'neg_mean_absolute_error')\\n\\n# Fit grid search\\ngrid_result = grid.fit(X, y)\\n\""
      ]
     },
     "execution_count": 16,
     "metadata": {},
     "output_type": "execute_result"
    }
   ],
   "source": [
    "\"\"\"\n",
    "#Using Grid search to obtain better result\n",
    "#Partial code from https://chrisalbon.com/code/deep_learning/keras/tuning_neural_network_hyperparameters/\n",
    "# Create hyperparameter space\n",
    "epochs = [10, 100, 200]\n",
    "batches = [100, 150, 200]\n",
    "optimizers = ['rmsprop', 'adam', 'sgd', 'nadam']\n",
    "activation_11 = ['tanh', 'sigmoid', 'relu']\n",
    "activation_22 = ['tanh', 'sigmoid', 'relu']\n",
    "\n",
    "# Create hyperparameter options\n",
    "hyperparameters = dict(optimizer=optimizers, epochs=epochs, batch_size=batches, activation_1 = activation_11, activation_2 = activation_22)\n",
    "\n",
    "# Create grid search\n",
    "grid = GridSearchCV(estimator=neural_network_opt, cv=cv, param_grid=hyperparameters, scoring = 'neg_mean_absolute_error')\n",
    "\n",
    "# Fit grid search\n",
    "grid_result = grid.fit(X, y)\n",
    "\"\"\""
   ]
  },
  {
   "cell_type": "code",
   "execution_count": 17,
   "id": "11576fea",
   "metadata": {},
   "outputs": [
    {
     "data": {
      "text/plain": [
       "\"\\nprint('Best Score: %s' % grid_result.best_score_)\\nprint('Best Hyperparameters: %s' % grid_result.best_params_)\\n\""
      ]
     },
     "execution_count": 17,
     "metadata": {},
     "output_type": "execute_result"
    }
   ],
   "source": [
    "\"\"\"\n",
    "print('Best Score: %s' % grid_result.best_score_)\n",
    "print('Best Hyperparameters: %s' % grid_result.best_params_)\n",
    "\"\"\""
   ]
  },
  {
   "cell_type": "code",
   "execution_count": 18,
   "id": "b14ffc48",
   "metadata": {},
   "outputs": [],
   "source": [
    "#Optimized network after using grid search\n",
    "def create_network_opt1():\n",
    "    # Start neural network\n",
    "    network = models.Sequential()\n",
    "\n",
    "    network.add(layers.Dense(units=31, activation='relu', input_shape=(31,)))\n",
    "    network.add(layers.Dense(units=50, activation='relu'))\n",
    "    network.add(layers.Dense(units=8, activation='sigmoid'))\n",
    "\n",
    "    # Compile neural network\n",
    "    network.compile(loss='sparse_categorical_crossentropy', \n",
    "                    optimizer='adam', \n",
    "                    metrics=['accuracy']) \n",
    "    # Return compiled network\n",
    "    return network"
   ]
  },
  {
   "cell_type": "code",
   "execution_count": 19,
   "id": "a239d6e1",
   "metadata": {},
   "outputs": [
    {
     "name": "stderr",
     "output_type": "stream",
     "text": [
      "O:\\Anaconda\\envs\\Tensorflow_Practice\\lib\\site-packages\\ipykernel_launcher.py:2: DeprecationWarning: KerasClassifier is deprecated, use Sci-Keras (https://github.com/adriangb/scikeras) instead. See https://www.adriangb.com/scikeras/stable/migration.html for help migrating.\n",
      "  \n"
     ]
    }
   ],
   "source": [
    "# Evaluate optimized neural network using ten-fold cross-validation\n",
    "neural_network_opt1 = KerasClassifier(build_fn=create_network_opt1, batch_size = 100, epochs = 200, verbose=0)\n",
    "score_opt = cross_val_score(neural_network_opt1, X, y, scoring='neg_mean_absolute_error', cv=cv)\n",
    "score_opt2 = cross_val_score(neural_network_opt1, X, y, scoring='accuracy', cv=cv)"
   ]
  },
  {
   "cell_type": "code",
   "execution_count": 20,
   "id": "bec53687",
   "metadata": {},
   "outputs": [
    {
     "name": "stdout",
     "output_type": "stream",
     "text": [
      "1.6285714285714286\n",
      "0.2138095238095238\n"
     ]
    }
   ],
   "source": [
    "#MAE score and accuracy for the optimized NN model\n",
    "print(\"///////////////////////////////////////////////MAE and Accuracy for the optimized NN/////////////////////////////\")\n",
    "print(mean(absolute(score_opt)))\n",
    "print(mean(absolute(score_opt2)))"
   ]
  },
  {
   "cell_type": "code",
   "execution_count": null,
   "id": "10debafc",
   "metadata": {},
   "outputs": [],
   "source": []
  }
 ],
 "metadata": {
  "kernelspec": {
   "display_name": "Python 3 (ipykernel)",
   "language": "python",
   "name": "python3"
  },
  "language_info": {
   "codemirror_mode": {
    "name": "ipython",
    "version": 3
   },
   "file_extension": ".py",
   "mimetype": "text/x-python",
   "name": "python",
   "nbconvert_exporter": "python",
   "pygments_lexer": "ipython3",
   "version": "3.7.10"
  }
 },
 "nbformat": 4,
 "nbformat_minor": 5
}
